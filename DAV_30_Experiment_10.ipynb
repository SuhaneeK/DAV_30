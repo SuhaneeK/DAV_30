{
  "nbformat": 4,
  "nbformat_minor": 0,
  "metadata": {
    "colab": {
      "provenance": []
    },
    "kernelspec": {
      "name": "python3",
      "display_name": "Python 3"
    },
    "language_info": {
      "name": "python"
    }
  },
  "cells": [
    {
      "cell_type": "code",
      "execution_count": null,
      "metadata": {
        "colab": {
          "base_uri": "https://localhost:8080/",
          "height": 269
        },
        "id": "aaDpKzyR51UK",
        "outputId": "1991f607-c591-4767-84c5-99121024d2cb"
      },
      "outputs": [
        {
          "output_type": "display_data",
          "data": {
            "text/plain": [
              "<IPython.core.display.HTML object>"
            ],
            "text/html": [
              "<!DOCTYPE html>\n",
              "<html lang=\"en\">\n",
              "<head>\n",
              "    <meta charset=\"UTF-8\">\n",
              "    <meta name=\"viewport\" content=\"width=device-width, initial-scale=1.0\">\n",
              "    <title>Data-Based D3.js Example</title>\n",
              "    <script src=\"https://d3js.org/d3.v5.min.js\"></script>\n",
              "</head>\n",
              "<body>\n",
              "\n",
              "    <h2>Event Handling in D3</h2>\n",
              "    <script>\n",
              "d3.select(\"#demoSelectOn\")\n",
              "    .select(\"#circleColorChangeD\")\n",
              "\t.on(\"mouseenter\", (d,i,n) => n[i].setAttribute(\"fill\", \"#000\"))\n",
              "    .on(\"mouseout\",   (d,i,n) => n[i].setAttribute(\"fill\", \"red\"));\n",
              "\n",
              "function randomColors() {\n",
              "        const letters = \"0123456789ABCDEF\";\n",
              "        let color = \"#\";\n",
              "        for (let i = 0; i < 6; i++) {\n",
              "          color += letters[Math.floor(Math.random() * 16)];\n",
              "        }\n",
              "        return color;\n",
              "      }\n",
              "</script>\n",
              "\n",
              "<svg id=\"demoSelectOn\" width=200px height=200px>\n",
              "    <circle id=\"circleColorChangeD\" cx=100 cy=100 r=50></circle>\n",
              "</svg>\n",
              "\n",
              "</body>\n",
              "</html>\n"
            ]
          },
          "metadata": {}
        }
      ],
      "source": [
        "%%html\n",
        "<!DOCTYPE html>\n",
        "<html lang=\"en\">\n",
        "<head>\n",
        "    <meta charset=\"UTF-8\">\n",
        "    <meta name=\"viewport\" content=\"width=device-width, initial-scale=1.0\">\n",
        "    <title>Data-Based D3.js Example</title>\n",
        "    <script src=\"https://d3js.org/d3.v5.min.js\"></script>\n",
        "</head>\n",
        "<body>\n",
        "\n",
        "    <h2>Event Handling in D3</h2>\n",
        "    <script>\n",
        "d3.select(\"#demoSelectOn\")\n",
        "    .select(\"#circleColorChangeD\")\n",
        "\t.on(\"mouseenter\", (d,i,n) => n[i].setAttribute(\"fill\", \"#000\"))\n",
        "    .on(\"mouseout\",   (d,i,n) => n[i].setAttribute(\"fill\", \"red\"));\n",
        "\n",
        "function randomColors() {\n",
        "        const letters = \"0123456789ABCDEF\";\n",
        "        let color = \"#\";\n",
        "        for (let i = 0; i < 6; i++) {\n",
        "          color += letters[Math.floor(Math.random() * 16)];\n",
        "        }\n",
        "        return color;\n",
        "      }\n",
        "</script>\n",
        "\n",
        "<svg id=\"demoSelectOn\" width=200px height=200px>\n",
        "    <circle id=\"circleColorChangeD\" cx=100 cy=100 r=50></circle>\n",
        "</svg>\n",
        "\n",
        "</body>\n",
        "</html>"
      ]
    },
    {
      "cell_type": "code",
      "source": [
        "%%html\n",
        "<!DOCTYPE html>\n",
        "<html lang=\"en\">\n",
        "<head>\n",
        "    <meta charset=\"UTF-8\">\n",
        "    <meta name=\"viewport\" content=\"width=device-width, initial-scale=1.0\">\n",
        "    <title>Data-Based D3.js Example</title>\n",
        "    <script src=\"https://d3js.org/d3.v5.min.js\"></script>\n",
        "</head>\n",
        "<body>\n",
        "\n",
        "    <h2>Event Handling in D3</h2>\n",
        "    <script>\n",
        "\n",
        "\n",
        "d3.select(\"#demoMouseMove\")\n",
        "\t.on(\"mousemove\", function() {\n",
        "\t    let pos = d3.mouse(this);\n",
        "        d3.select(this)\n",
        "            .append(\"circle\")\n",
        "            .attr(\"fill\", () => randomColors())\n",
        "            .attr(\"r\", 1.5)\n",
        "            .attr(\"cx\", pos[0])\n",
        "            .attr(\"cy\", pos[1]);\n",
        "\t});\n",
        "\n",
        "    function randomColors() {\n",
        "        const letters = \"0123456789ABCDEF\";\n",
        "        let color = \"#\";\n",
        "        for (let i = 0; i < 6; i++) {\n",
        "          color += letters[Math.floor(Math.random() * 16)];\n",
        "        }\n",
        "        return color;\n",
        "      }\n",
        "\n",
        "    d3.select(\"button\").on(\"click\", () => {\n",
        "      d3.selectAll(\"circle\").remove(); // Remove all circles from the SVG\n",
        "  });\n",
        "\n",
        "</script>\n",
        "\n",
        "<svg id=\"demoMouseMove\" width=400px height=300px>\n",
        "     <path d=\"M0,0 L400,0 L400,300 L0,300 Z\" stroke=\"black\" stroke-width=\"5px\" fill=\"none\"></path>\n",
        "</svg>\n",
        "<br />\n",
        "<button>Clear</button>\n",
        "\n",
        "\n",
        "</body>\n",
        "</html>\n"
      ],
      "metadata": {
        "colab": {
          "base_uri": "https://localhost:8080/",
          "height": 390
        },
        "id": "6cwtUohG6Kqm",
        "outputId": "30889d30-e79b-4bb6-9bfc-f1554a336c65"
      },
      "execution_count": null,
      "outputs": [
        {
          "output_type": "display_data",
          "data": {
            "text/plain": [
              "<IPython.core.display.HTML object>"
            ],
            "text/html": [
              "<!DOCTYPE html>\n",
              "<html lang=\"en\">\n",
              "<head>\n",
              "    <meta charset=\"UTF-8\">\n",
              "    <meta name=\"viewport\" content=\"width=device-width, initial-scale=1.0\">\n",
              "    <title>Data-Based D3.js Example</title>\n",
              "    <script src=\"https://d3js.org/d3.v5.min.js\"></script>\n",
              "</head>\n",
              "<body>\n",
              "\n",
              "    <h2>Event Handling in D3</h2>\n",
              "    <script>\n",
              "\n",
              "\n",
              "d3.select(\"#demoMouseMove\")\n",
              "\t.on(\"mousemove\", function() {\n",
              "\t    let pos = d3.mouse(this);\n",
              "        d3.select(this)\n",
              "            .append(\"circle\")\n",
              "            .attr(\"fill\", () => randomColors())\n",
              "            .attr(\"r\", 1.5)\n",
              "            .attr(\"cx\", pos[0])\n",
              "            .attr(\"cy\", pos[1]);\n",
              "\t});\n",
              "\n",
              "    function randomColors() {\n",
              "        const letters = \"0123456789ABCDEF\";\n",
              "        let color = \"#\";\n",
              "        for (let i = 0; i < 6; i++) {\n",
              "          color += letters[Math.floor(Math.random() * 16)];\n",
              "        }\n",
              "        return color;\n",
              "      }\n",
              "\n",
              "    d3.select(\"button\").on(\"click\", () => {\n",
              "      d3.selectAll(\"circle\").remove(); // Remove all circles from the SVG\n",
              "  });\n",
              "\n",
              "</script>\n",
              "\n",
              "<svg id=\"demoMouseMove\" width=400px height=300px>\n",
              "     <path d=\"M0,0 L400,0 L400,300 L0,300 Z\" stroke=\"black\" stroke-width=\"5px\" fill=\"none\"></path>\n",
              "</svg>\n",
              "<br />\n",
              "<button>Clear</button>\n",
              "\n",
              "\n",
              "</body>\n",
              "</html>\n"
            ]
          },
          "metadata": {}
        }
      ]
    },
    {
      "cell_type": "code",
      "source": [],
      "metadata": {
        "id": "HU64CXBW6K00"
      },
      "execution_count": null,
      "outputs": []
    }
  ]
}